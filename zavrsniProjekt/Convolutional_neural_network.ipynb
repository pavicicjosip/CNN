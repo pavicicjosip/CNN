{
 "cells": [
  {
   "cell_type": "code",
   "execution_count": 1,
   "id": "38874164",
   "metadata": {},
   "outputs": [],
   "source": [
    "import cv2\n",
    "import os\n",
    "import numpy as np\n",
    "from torch.utils.data import Dataset, DataLoader\n",
    "import torch\n",
    "import torch.nn as nn\n",
    "import torch.nn.functional as F\n",
    "import torch.optim as optim\n",
    "from sklearn.metrics import confusion_matrix\n",
    "import matplotlib.pyplot as plt"
   ]
  },
  {
   "cell_type": "markdown",
   "id": "a1e9bc69",
   "metadata": {},
   "source": [
    "## Image augmentation"
   ]
  },
  {
   "cell_type": "code",
   "execution_count": 2,
   "id": "7f77f411",
   "metadata": {},
   "outputs": [],
   "source": [
    "class ImageAugmentation:\n",
    "    def __init__(self, path = \"./\"):\n",
    "        self.path = path\n",
    "        self.image_dims = (255, 255)\n",
    "        self.folder_list = os.listdir(path)       \n",
    "        \n",
    "    def resize(self):\n",
    "        for folder in self.folder_list:\n",
    "            self.files = os.listdir(self.path + '/' + folder)\n",
    "            for file in self.files:\n",
    "                    img = cv2.imread(self.path + \"/\" + folder + \"/\" + file)\n",
    "                    resized_img = cv2.resize(img, self.image_dims,interpolation=cv2.INTER_AREA)                \n",
    "                    cv2.imwrite(self.path + \"/\" + folder + \"/\" + file, resized_img)\n",
    "                    \n",
    "    def rotateY(self):\n",
    "        for folder in self.folder_list:\n",
    "            self.files = os.listdir(self.path + '/' + folder)\n",
    "            \n",
    "            for file in self.files:\n",
    "                constraint = [\"rx_\", \"ry_\"]\n",
    "                if file[:3] not in constraint and self.path.split('/')[-1] != 'test':\n",
    "                    img = cv2.imread(self.path + \"/\" + folder + \"/\" + file)\n",
    "                    rows, cols, dim = img.shape\n",
    "                    My = np.float32([[-1,  0, cols],\n",
    "                                     [0 ,  1, 0   ],\n",
    "                                     [0 ,  0, 1   ]])\n",
    "                    \n",
    "                    reflected_img = cv2.warpPerspective(img,My,(int(cols),int(rows)))\n",
    "                    cv2.imwrite(self.path + \"/\" + folder + \"/\" + \"ry_\"+ file,reflected_img)\n"
   ]
  },
  {
   "cell_type": "code",
   "execution_count": 5,
   "id": "0bb0f9fd",
   "metadata": {},
   "outputs": [],
   "source": [
    "#trainDataAugmentation = ImageAugmentation(\"./data/train\")\n",
    "#trainDataAugmentation.resize()\n",
    "#trainDataAugmentation.rotateY()\n",
    "\n",
    "#testDataAugmentation = ImageAugmentation(\"./data/test\")\n",
    "#testDataAugmentation.resize()"
   ]
  },
  {
   "cell_type": "markdown",
   "id": "a8d298ec",
   "metadata": {},
   "source": [
    "## Costum dataloader"
   ]
  },
  {
   "cell_type": "code",
   "execution_count": 4,
   "id": "355153c4",
   "metadata": {},
   "outputs": [],
   "source": [
    "class CDataset(Dataset):\n",
    "    def __init__(self, train = False, test = False):\n",
    "        if(train):\n",
    "            self.data_path = \"./data/train\"\n",
    "        if(test):\n",
    "            self.data_path = \"./data/test\"\n",
    "            \n",
    "        self.data = []\n",
    "        self.folder_list = os.listdir(self.data_path)\n",
    "        self.class_map = {\"abraham_grampa_simpson\": 0, \"bart_simpson\": 1, \n",
    "                          \"homer_simpson\": 2, \"lisa_simpson\": 3, \n",
    "                          \"marge_simpson\": 4,  \"principal_skinner\": 5}        \n",
    "\n",
    "        for folder in self.folder_list:\n",
    "            for file in os.listdir(self.data_path + '/' + folder):\n",
    "                self.data.append([file, folder])\n",
    "                \n",
    "        \n",
    "        \n",
    "    def __len__(self):\n",
    "        return len(self.data)\n",
    "    \n",
    "    def __getitem__(self, i):\n",
    "        file, folder = self.data[i]\n",
    "        img = cv2.imread(self.data_path + '/' + folder + '/' + file)\n",
    "        class_id = self.class_map[folder]\n",
    "        img_tensor = torch.tensor(img, dtype=torch.float)\n",
    "        img_tensor = img_tensor.permute(2,0,1)\n",
    "        class_id = torch.tensor([class_id])\n",
    "        return img_tensor, class_id"
   ]
  },
  {
   "cell_type": "code",
   "execution_count": 5,
   "id": "566c8ead",
   "metadata": {},
   "outputs": [],
   "source": [
    "batch_size = 5\n",
    "train_dataset = CDataset(train=True)\n",
    "data_loader_train = DataLoader(train_dataset, batch_size=batch_size, shuffle=True)\n",
    "\n",
    "test_dataset = CDataset(test=True)\n",
    "data_loader_test = DataLoader(test_dataset, batch_size=batch_size, shuffle=True)"
   ]
  },
  {
   "cell_type": "code",
   "execution_count": 6,
   "id": "79069a24",
   "metadata": {},
   "outputs": [
    {
     "name": "stdout",
     "output_type": "stream",
     "text": [
      "16380\n"
     ]
    },
    {
     "data": {
      "image/png": "[encoded data removed]",
      "text/plain": [
       "<Figure size 432x288 with 1 Axes>"
      ]
     },
     "metadata": {
      "needs_background": "light"
     },
     "output_type": "display_data"
    }
   ],
   "source": [
    "chart = {\"abraham_grampa_simpson\": 0, \"bart_simpson\": 0, \n",
    "                          \"homer_simpson\": 0, \"lisa_simpson\": 0, \n",
    "                          \"marge_simpson\": 0,  \"principal_skinner\": 0} \n",
    "\n",
    "br = 0\n",
    "for name, folder in train_dataset.data:\n",
    "    for key in chart:\n",
    "        if folder == key:\n",
    "            chart[key] += 1\n",
    "    br += 1\n",
    "print(br)\n",
    "names = [train_dataset.class_map[k] for k in chart.keys()]\n",
    "values = list(chart.values())\n",
    "plt.bar(names, values)\n",
    "plt.show()"
   ]
  },
  {
   "cell_type": "markdown",
   "id": "f100c175",
   "metadata": {},
   "source": [
    "## CNN\n",
    "\n"
   ]
  },
  {
   "cell_type": "code",
   "execution_count": 7,
   "id": "91e07915",
   "metadata": {},
   "outputs": [
    {
     "name": "stdout",
     "output_type": "stream",
     "text": [
      "Running on the GPU\n"
     ]
    }
   ],
   "source": [
    "if torch.cuda.is_available():\n",
    "    device = torch.device(\"cuda:0\") \n",
    "    print(\"Running on the GPU\")\n",
    "else:\n",
    "    device = torch.device(\"cpu\")\n",
    "    print(\"Running on the CPU\")"
   ]
  },
  {
   "cell_type": "code",
   "execution_count": 8,
   "id": "43ce483a",
   "metadata": {},
   "outputs": [],
   "source": [
    "class CNN(nn.Module):\n",
    "\n",
    "    def __init__(self):\n",
    "        super(CNN, self).__init__()\n",
    "\n",
    "        self.conv_layer = nn.Sequential(\n",
    "            nn.Conv2d(in_channels=3, out_channels=128, kernel_size=7, padding=2, stride=2),\n",
    "            nn.BatchNorm2d(128),\n",
    "            nn.PReLU(),\n",
    "            nn.MaxPool2d(kernel_size=3, stride=2),\n",
    "            \n",
    "            nn.Conv2d(in_channels=128, out_channels=256, kernel_size=5, padding=2, stride=2),\n",
    "            nn.BatchNorm2d(256),\n",
    "            nn.PReLU(),  \n",
    "            nn.MaxPool2d(kernel_size=3, stride=2),\n",
    "            \n",
    "            nn.Conv2d(in_channels=256, out_channels=384, kernel_size=3, padding=1, stride=1),\n",
    "            nn.BatchNorm2d(384),\n",
    "            nn.PReLU(),  \n",
    "            \n",
    "            nn.Conv2d(in_channels=384, out_channels=384, kernel_size=3, padding=1, stride=1),\n",
    "            nn.BatchNorm2d(384),\n",
    "            nn.PReLU(),  \n",
    "            \n",
    "            nn.AvgPool2d(kernel_size=15, stride=1),\n",
    "        )\n",
    "\n",
    "\n",
    "        self.fc_layer = nn.Sequential(\n",
    "            nn.Dropout(p=0.6),\n",
    "            nn.Linear(384, 6),\n",
    "            nn.PReLU(),\n",
    "        )\n",
    "\n",
    "\n",
    "    def forward(self, x): \n",
    "        x = self.conv_layer(x)\n",
    "        x = torch.flatten(x, 1)\n",
    "        x = self.fc_layer(x)\n",
    "        return x"
   ]
  },
  {
   "cell_type": "code",
   "execution_count": 9,
   "id": "317e6ba3",
   "metadata": {},
   "outputs": [
    {
     "data": {
      "text/plain": [
       "384"
      ]
     },
     "execution_count": 9,
     "metadata": {},
     "output_type": "execute_result"
    }
   ],
   "source": [
    "net = CNN()\n",
    "def calc_input_dims():\n",
    "        batch_data = torch.zeros((1, 3, 255, 255))\n",
    "        \n",
    "        batch_data = net.conv_layer(batch_data)\n",
    "        \n",
    "        return int(np.prod(batch_data.size()))\n",
    "calc_input_dims()"
   ]
  },
  {
   "cell_type": "code",
   "execution_count": 10,
   "id": "7f6a2941",
   "metadata": {},
   "outputs": [],
   "source": [
    "lossF = nn.CrossEntropyLoss()\n",
    "optimizer = optim.Adam(net.parameters(), lr=0.0001)"
   ]
  },
  {
   "cell_type": "code",
   "execution_count": 11,
   "id": "e4733047",
   "metadata": {},
   "outputs": [
    {
     "name": "stdout",
     "output_type": "stream",
     "text": [
      "Starting epoch #0\n",
      "Starting epoch #1\n",
      "Starting epoch #2\n",
      "Starting epoch #3\n",
      "Starting epoch #4\n",
      "Starting epoch #5\n",
      "Starting epoch #6\n",
      "Starting epoch #7\n",
      "Starting epoch #8\n",
      "Starting epoch #9\n",
      "Starting epoch #10\n",
      "Starting epoch #11\n",
      "Starting epoch #12\n",
      "Starting epoch #13\n",
      "Starting epoch #14\n",
      "Starting epoch #15\n",
      "Starting epoch #16\n",
      "Starting epoch #17\n",
      "Starting epoch #18\n",
      "Starting epoch #19\n",
      "Starting epoch #20\n",
      "Starting epoch #21\n",
      "Starting epoch #22\n",
      "Starting epoch #23\n",
      "Starting epoch #24\n",
      "Starting epoch #25\n",
      "Starting epoch #26\n",
      "Starting epoch #27\n",
      "Starting epoch #28\n",
      "Starting epoch #29\n",
      "Starting epoch #30\n",
      "Starting epoch #31\n",
      "Starting epoch #32\n",
      "Starting epoch #33\n",
      "Starting epoch #34\n",
      "Starting epoch #35\n",
      "Starting epoch #36\n",
      "Starting epoch #37\n",
      "Starting epoch #38\n",
      "Starting epoch #39\n",
      "Starting epoch #40\n",
      "Starting epoch #41\n",
      "Starting epoch #42\n",
      "Starting epoch #43\n",
      "Starting epoch #44\n",
      "Starting epoch #45\n",
      "Starting epoch #46\n",
      "Starting epoch #47\n",
      "Starting epoch #48\n",
      "Starting epoch #49\n",
      "Finished Training\n"
     ]
    }
   ],
   "source": [
    "#net.to(device)  \n",
    "epochs = 50\n",
    "train_loss = []\n",
    "test_loss = []\n",
    "\n",
    "for epoch in range(epochs): \n",
    "    print(\"Starting epoch #\" + str(epoch))\n",
    "    running_loss_train = 0.0\n",
    "    running_loss_test = 0.0\n",
    "    net.to(torch.device(\"cuda:0\")) \n",
    "    for i, data in enumerate(data_loader_train, 0):\n",
    "        # inputs, labels = data\n",
    "        inputs, labels = data[0].to(device), data[1].to(device)\n",
    "        optimizer.zero_grad()\n",
    "        outputs = net(inputs)\n",
    "        loss = lossF(outputs, labels.flatten())\n",
    "        loss.backward()\n",
    "        optimizer.step()\n",
    "\n",
    "        running_loss_train += loss.item()\n",
    "    \n",
    "    net.to(torch.device(\"cpu\")) \n",
    "    with torch.no_grad():\n",
    "        for data in data_loader_test:\n",
    "            images, labels = data\n",
    "            outputs = net(images)\n",
    "\n",
    "            loss = lossF(outputs, labels.flatten())\n",
    "            running_loss_test += loss.item()\n",
    "    \n",
    "    train_loss.append(float(running_loss_train))\n",
    "    test_loss.append(float(running_loss_test)) \n",
    "\n",
    "print('Finished Training')"
   ]
  },
  {
   "cell_type": "code",
   "execution_count": 12,
   "id": "aefb6014",
   "metadata": {},
   "outputs": [],
   "source": [
    "PATH = \"./SimpsonsCNN\"\n",
    "torch.save(net.state_dict(), PATH)"
   ]
  },
  {
   "cell_type": "markdown",
   "id": "8db27db6",
   "metadata": {},
   "source": [
    "## Evaluation"
   ]
  },
  {
   "cell_type": "code",
   "execution_count": 13,
   "id": "3effb7e7",
   "metadata": {},
   "outputs": [
    {
     "data": {
      "image/png": "[encoded data removed]",
      "text/plain": [
       "<Figure size 432x288 with 1 Axes>"
      ]
     },
     "metadata": {
      "needs_background": "light"
     },
     "output_type": "display_data"
    }
   ],
   "source": [
    "x = np.arange(epochs)\n",
    "y_train = np.array(train_loss) \n",
    "y_test = np.array(test_loss)\n",
    "plt.title('Loss over epochs (b=train, r=test)')\n",
    "plt.xlabel('epochs')\n",
    "plt.ylabel('Misclassification rate/loss')\n",
    "plt.plot(x, y_train, c='b')\n",
    "plt.plot(x, y_test, c='r')\n",
    "plt.show()"
   ]
  },
  {
   "cell_type": "code",
   "execution_count": 18,
   "id": "5d1af264",
   "metadata": {},
   "outputs": [
    {
     "name": "stdout",
     "output_type": "stream",
     "text": [
      "284 300\n",
      "Accuracy on test images: 95 %\n"
     ]
    }
   ],
   "source": [
    "net.to(torch.device(\"cpu\")) \n",
    "\n",
    "correct = 0\n",
    "total = 0\n",
    "predict = []\n",
    "true = []\n",
    "            \n",
    "with torch.no_grad():\n",
    "    for data in data_loader_test:\n",
    "        images, labels = data\n",
    "        outputs = net(images)\n",
    "\n",
    "        for i in range(batch_size):\n",
    "            try:\n",
    "                true.append(int(labels[i]))\n",
    "                predict.append(np.array(outputs[i]).argmax())\n",
    "                if np.array(outputs[i]).argmax() == labels[i]:\n",
    "                    correct += 1\n",
    "                total+=1\n",
    "            except:\n",
    "                pass\n",
    "\n",
    "    print(correct, total)\n",
    "\n",
    "print('Accuracy on test images: %d %%' % (\n",
    "    round(100 * correct / total)))"
   ]
  },
  {
   "cell_type": "code",
   "execution_count": 19,
   "id": "5589c209",
   "metadata": {},
   "outputs": [],
   "source": [
    "conf_matrix = confusion_matrix(true, predict)\n",
    "\n",
    "class Confusion_matrix_extraction():\n",
    "    def __init__(self):\n",
    "        self.M = []\n",
    "        self.class_map = {\"abraham_grampa_simpson\": 0, \"bart_simpson\": 1, \n",
    "                          \"homer_simpson\": 2, \"lisa_simpson\": 3, \n",
    "                          \"marge_simpson\": 4,  \"principal_skinner\": 5} \n",
    "        self.num_of_classes = len(self.class_map)\n",
    "\n",
    "    def extract_all(self, CM):\n",
    "        for k in range(self.num_of_classes):\n",
    "            tp, fn, fp, tn = 0, 0, 0, 0\n",
    "            for i in range(self.num_of_classes):\n",
    "                for j in range(self.num_of_classes):\n",
    "                    if i == j and i == k:\n",
    "                        tp = CM[i][j]\n",
    "                    elif i == k and (j > i or j < i):\n",
    "                        fn += CM[i][j]\n",
    "                    elif j == k and (i > j or i < j):\n",
    "                        fp += CM[i][j]\n",
    "                    else:\n",
    "                        tn += CM[i][j]\n",
    "            self.M.append([tn, fp, fn, tp])  \n",
    "            \n",
    "            \n",
    "        for i in range(self.num_of_classes):\n",
    "            position = list(self.class_map.values()).index(i)\n",
    "            print(\"Class: \", list(self.class_map.keys())[position])\n",
    "            print(\"[tn, fp, fn, tp]: \", self.M[i])\n",
    "            print(\"Accuracy: \", self.accuracy(i))\n",
    "            print(\"Misclassification: \", self.misclassification(i))\n",
    "            print(\"Precision: \", self.precision(i))\n",
    "            print(\"Recall: \", self.recall(i))\n",
    "            print(\"*********************************************\")\n",
    "    \n",
    "    def tn_fp_fn_tp(self, _class):\n",
    "        return self.M[_class]\n",
    "    \n",
    "    def accuracy(self, _class):\n",
    "        tn, fp, fn, tp = self.M[_class]\n",
    "        return (tp+tn)/(tp+tn+fp+fn) * 100\n",
    "    \n",
    "    def misclassification(self, _class):\n",
    "        tn, fp, fn, tp = self.M[_class]\n",
    "        return (fp+fn)/(tp+tn+fp+fn) * 100\n",
    "    \n",
    "    def precision(self, _class):\n",
    "        tn, fp, fn, tp = self.M[_class]\n",
    "        return tp/(tp+fp) * 100\n",
    "    \n",
    "    def recall(self, _class):\n",
    "        tn, fp, fn, tp = self.M[_class]\n",
    "        return tp/(tp+fn) * 100"
   ]
  },
  {
   "cell_type": "code",
   "execution_count": 20,
   "id": "f25a67a7",
   "metadata": {},
   "outputs": [
    {
     "name": "stdout",
     "output_type": "stream",
     "text": [
      "Class:  abraham_grampa_simpson\n",
      "[tn, fp, fn, tp]:  [249, 1, 6, 44]\n",
      "Accuracy:  97.66666666666667\n",
      "Misclassification:  2.3333333333333335\n",
      "Precision:  97.77777777777777\n",
      "Recall:  88.0\n",
      "*********************************************\n",
      "Class:  bart_simpson\n",
      "[tn, fp, fn, tp]:  [247, 3, 1, 49]\n",
      "Accuracy:  98.66666666666667\n",
      "Misclassification:  1.3333333333333335\n",
      "Precision:  94.23076923076923\n",
      "Recall:  98.0\n",
      "*********************************************\n",
      "Class:  homer_simpson\n",
      "[tn, fp, fn, tp]:  [248, 2, 0, 50]\n",
      "Accuracy:  99.33333333333333\n",
      "Misclassification:  0.6666666666666667\n",
      "Precision:  96.15384615384616\n",
      "Recall:  100.0\n",
      "*********************************************\n",
      "Class:  lisa_simpson\n",
      "[tn, fp, fn, tp]:  [247, 3, 5, 45]\n",
      "Accuracy:  97.33333333333334\n",
      "Misclassification:  2.666666666666667\n",
      "Precision:  93.75\n",
      "Recall:  90.0\n",
      "*********************************************\n",
      "Class:  marge_simpson\n",
      "[tn, fp, fn, tp]:  [245, 5, 0, 50]\n",
      "Accuracy:  98.33333333333333\n",
      "Misclassification:  1.6666666666666667\n",
      "Precision:  90.9090909090909\n",
      "Recall:  100.0\n",
      "*********************************************\n",
      "Class:  principal_skinner\n",
      "[tn, fp, fn, tp]:  [248, 2, 4, 46]\n",
      "Accuracy:  98.0\n",
      "Misclassification:  2.0\n",
      "Precision:  95.83333333333334\n",
      "Recall:  92.0\n",
      "*********************************************\n"
     ]
    }
   ],
   "source": [
    "CME = Confusion_matrix_extraction()\n",
    "CME.extract_all(conf_matrix)"
   ]
  },
  {
   "cell_type": "code",
   "execution_count": null,
   "id": "953e33cb",
   "metadata": {},
   "outputs": [],
   "source": []
  }
 ],
 "metadata": {
  "kernelspec": {
   "display_name": "Python 3",
   "language": "python",
   "name": "python3"
  },
  "language_info": {
   "codemirror_mode": {
    "name": "ipython",
    "version": 3
   },
   "file_extension": ".py",
   "mimetype": "text/x-python",
   "name": "python",
   "nbconvert_exporter": "python",
   "pygments_lexer": "ipython3",
   "version": "3.9.2"
  }
 },
 "nbformat": 4,
 "nbformat_minor": 5
}
